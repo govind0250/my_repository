{
  "nbformat": 4,
  "nbformat_minor": 0,
  "metadata": {
    "colab": {
      "name": "P_1.ipynb",
      "provenance": [],
      "collapsed_sections": []
    },
    "kernelspec": {
      "name": "python3",
      "display_name": "Python 3"
    },
    "language_info": {
      "name": "python"
    }
  },
  "cells": [
    {
      "cell_type": "code",
      "execution_count": 1,
      "metadata": {
        "colab": {
          "base_uri": "https://localhost:8080/"
        },
        "id": "pX0WWJPDOrSF",
        "outputId": "a0a73ebb-45fc-4c71-97d5-a103b92503d5"
      },
      "outputs": [
        {
          "output_type": "stream",
          "name": "stdout",
          "text": [
            "Hello World\n"
          ]
        }
      ],
      "source": [
        "print('Hello World')"
      ]
    },
    {
      "cell_type": "markdown",
      "source": [
        "1. Write a function that takes a list of lists and returns the value of all of the symbols in it, where each symbol adds or takes something from the total score. Symbol values:\n",
        "\n",
        "# = 5\n",
        "O = 3\n",
        "X = 1\n",
        "! = -1\n",
        "!! = -3\n",
        "!!! = -5\n"
      ],
      "metadata": {
        "id": "z1s54XLfO1Lm"
      }
    },
    {
      "cell_type": "code",
      "source": [
        "a = [ [\"#\", \"!\"],[\"!!\", \"X\"]]\n",
        "b = [\n",
        "  [\"!!!\", \"O\", \"!\"],\n",
        "  [\"X\", \"#\", \"!!!\"],\n",
        "  [\"!!\", \"X\", \"O\"]]\n"
      ],
      "metadata": {
        "id": "N0vw1F3IO4P1"
      },
      "execution_count": 16,
      "outputs": []
    },
    {
      "cell_type": "code",
      "source": [
        "def check_score(lst):\n",
        "\n",
        "  sm = 0\n",
        "  for l in lst:\n",
        "    for i in l:\n",
        "      \n",
        "      if i == '#':\n",
        "        sm += 5\n",
        "      \n",
        "      elif i == 'O':\n",
        "        sm += 3\n",
        "\n",
        "      elif i == 'X':\n",
        "        sm += 1\n",
        "\n",
        "      elif i == '!':\n",
        "        sm -= 1\n",
        "\n",
        "      elif i == '!!':\n",
        "        sm -= 3\n",
        "\n",
        "      elif i == '!!!':\n",
        "        sm -= 5\n",
        "\n",
        "\n",
        "  if sm >= 0:\n",
        "    return sm \n",
        "  else:  \n",
        "    return 0\n",
        "\n"
      ],
      "metadata": {
        "id": "QjB4BwqUPDfV"
      },
      "execution_count": 13,
      "outputs": []
    },
    {
      "cell_type": "code",
      "source": [
        "check_score(a)"
      ],
      "metadata": {
        "colab": {
          "base_uri": "https://localhost:8080/"
        },
        "id": "1RjDgNYhPVcb",
        "outputId": "87baacd8-d2b3-44ee-b9d9-293c9307dfd7"
      },
      "execution_count": 14,
      "outputs": [
        {
          "output_type": "execute_result",
          "data": {
            "text/plain": [
              "2"
            ]
          },
          "metadata": {},
          "execution_count": 14
        }
      ]
    },
    {
      "cell_type": "code",
      "source": [
        "check_score(b)"
      ],
      "metadata": {
        "colab": {
          "base_uri": "https://localhost:8080/"
        },
        "id": "7t0LCV3-Rjsi",
        "outputId": "80217970-ba7e-49c2-d902-39a551320340"
      },
      "execution_count": 17,
      "outputs": [
        {
          "output_type": "execute_result",
          "data": {
            "text/plain": [
              "0"
            ]
          },
          "metadata": {},
          "execution_count": 17
        }
      ]
    },
    {
      "cell_type": "markdown",
      "source": [
        "2.Create a function that takes a variable number of arguments, each argument representing the number of items in a group, and returns the number of permutations (combinations) of items that you could get by taking one item from each group.\n",
        "\n",
        "Examples\n",
        "\n",
        "combinations(2, 3) ➞ 6\n",
        "\n",
        "combinations(3, 7, 4) ➞ 84\n",
        "\n",
        "combinations(2, 3, 4, 5) ➞ 120\n"
      ],
      "metadata": {
        "id": "vChT55HQRy7_"
      }
    },
    {
      "cell_type": "code",
      "source": [
        "m = [2,3]\n",
        "def combinations(*args):\n",
        "  pro = 1\n",
        "  for arg in args:\n",
        "    pro *= arg\n",
        "  \n",
        "  return pro"
      ],
      "metadata": {
        "id": "s_VPbxw7R26E"
      },
      "execution_count": 20,
      "outputs": []
    },
    {
      "cell_type": "code",
      "source": [
        "combinations(9,3,6)"
      ],
      "metadata": {
        "colab": {
          "base_uri": "https://localhost:8080/"
        },
        "id": "ZTKZjInrSjUJ",
        "outputId": "dee83c53-a354-401c-aa51-a492380db055"
      },
      "execution_count": 23,
      "outputs": [
        {
          "output_type": "execute_result",
          "data": {
            "text/plain": [
              "162"
            ]
          },
          "metadata": {},
          "execution_count": 23
        }
      ]
    },
    {
      "cell_type": "markdown",
      "source": [
        "3. . Create a function that takes a string as an argument and returns the Morse code equivalent.\n",
        "\n",
        "Examples\n",
        "\n",
        "encode_morse(\"EDABBIT CHALLENGE\") ➞ \". -.. .- -... -... .. -   -.-. .... .- .-.. .-.. . -. --. .\"\n",
        "\n",
        "encode_morse(\"HELP ME !\") ➞ \".... . .-.. .--.   -- .   -.-.--\"\n"
      ],
      "metadata": {
        "id": "WQIiDjdqTyF2"
      }
    },
    {
      "cell_type": "code",
      "source": [
        "char_to_dots = {\n",
        "  'A': '.-', 'B': '-...', 'C': '-.-.', 'D': '-..', 'E': '.', 'F': '..-.',\n",
        "  'G': '--.', 'H': '....', 'I': '..', 'J': '.---', 'K': '-.-', 'L': '.-..',\n",
        "  'M': '--', 'N': '-.', 'O': '---', 'P': '.--.', 'Q': '--.-', 'R': '.-.',\n",
        "  'S': '...', 'T': '-', 'U': '..-', 'V': '...-', 'W': '.--', 'X': '-..-',\n",
        "  'Y': '-.--', 'Z': '--..', ' ': ' ', '0': '-----',\n",
        "  '1': '.----', '2': '..---', '3': '...--', '4': '....-', '5': '.....',\n",
        "  '6': '-....', '7': '--...', '8': '---..', '9': '----.',\n",
        "  '&': '.-...', \"'\": '.----.', '@': '.--.-.', ')': '-.--.-', '(': '-.--.',\n",
        "  ':': '---...', ',': '--..--', '=': '-...-', '!': '-.-.--', '.': '.-.-.-',\n",
        "  '-': '-....-', '+': '.-.-.', '\"': '.-..-.', '?': '..--..', '/': '-..-.'\n",
        "}\n"
      ],
      "metadata": {
        "id": "6LsHx2gQTgpP"
      },
      "execution_count": 24,
      "outputs": []
    },
    {
      "cell_type": "code",
      "source": [
        "def encode_morse(str):\n",
        "  s = ''\n",
        "  for i in str:\n",
        "    s = s + char_to_dots.get(i)\n",
        "  \n",
        "  return s"
      ],
      "metadata": {
        "id": "mpjFxJsQURJp"
      },
      "execution_count": 31,
      "outputs": []
    },
    {
      "cell_type": "code",
      "source": [
        "encode_morse('GOVIND')"
      ],
      "metadata": {
        "colab": {
          "base_uri": "https://localhost:8080/",
          "height": 36
        },
        "id": "3TF3ONdiUa8d",
        "outputId": "16c6e672-f80e-45f5-ca56-764dff7092b6"
      },
      "execution_count": 33,
      "outputs": [
        {
          "output_type": "execute_result",
          "data": {
            "text/plain": [
              "'--.---...-..-.-..'"
            ],
            "application/vnd.google.colaboratory.intrinsic+json": {
              "type": "string"
            }
          },
          "metadata": {},
          "execution_count": 33
        }
      ]
    },
    {
      "cell_type": "markdown",
      "source": [
        "4. Write a function that takes a number and returns True if it's a prime; False otherwise. The number can be 2^64-1 (2 to the power of 63, not XOR). With the standard technique it would be O(2^64-1), which is much too large for the 10 second time limit.\n",
        "\n",
        "Examples\n",
        "\n",
        "prime(7) ➞ True\n",
        "\n",
        "prime(56963) ➞ True\n",
        "\n",
        "prime(5151512515524) ➞ False\n"
      ],
      "metadata": {
        "id": "-QT4fpwvcV6A"
      }
    },
    {
      "cell_type": "code",
      "source": [
        "def Prime(num):\n",
        "  isPrime = True\n",
        "  for i in range(2,num-1):\n",
        "    if num % i == 0:\n",
        "      isPrime = False\n",
        "      break\n",
        "  return isPrime\n"
      ],
      "metadata": {
        "id": "NSen6VSiV3v3"
      },
      "execution_count": 43,
      "outputs": []
    },
    {
      "cell_type": "code",
      "source": [
        "Prime(739)"
      ],
      "metadata": {
        "colab": {
          "base_uri": "https://localhost:8080/"
        },
        "id": "dgWIWPLEc4qw",
        "outputId": "e9834a89-049e-4c86-b2cb-e5637b6c5401"
      },
      "execution_count": 49,
      "outputs": [
        {
          "output_type": "execute_result",
          "data": {
            "text/plain": [
              "True"
            ]
          },
          "metadata": {},
          "execution_count": 49
        }
      ]
    },
    {
      "cell_type": "markdown",
      "source": [
        "5. Create a function that converts a word to a bitstring and then to a boolean list based on the following criteria:\n",
        "\n",
        "    1. Locate the position of the letter in the English alphabet (from 1 to 26).\n",
        "    2. Odd positions will be represented as 1 and 0 otherwise.\n",
        "    3. Convert the represented positions to boolean values, 1 for True and 0 for False.\n",
        "    4. Store the conversions into an array.\n"
      ],
      "metadata": {
        "id": "1R5Ky25Vdd6b"
      }
    },
    {
      "cell_type": "code",
      "source": [
        "import string\n",
        "alpha = string.ascii_lowercase\n",
        "#lst = list(alpha)\n",
        "#alpha"
      ],
      "metadata": {
        "id": "iiZTLoCKc55u"
      },
      "execution_count": 62,
      "outputs": []
    },
    {
      "cell_type": "code",
      "source": [
        "d = dict()\n",
        "for i in range(len(alpha)):\n",
        "  d[alpha[i]] = i+1\n"
      ],
      "metadata": {
        "id": "0LyctuKAfIPh"
      },
      "execution_count": 77,
      "outputs": []
    },
    {
      "cell_type": "code",
      "source": [
        "def to_boolean_list(str):\n",
        "  l = []\n",
        "  for i in str:\n",
        "    if d.get(i) % 2 == 0:\n",
        "      l.append(False)\n",
        "    else:\n",
        "      l.append(True)\n",
        "    \n",
        "  return l"
      ],
      "metadata": {
        "id": "p0lDSBVAnJEL"
      },
      "execution_count": 81,
      "outputs": []
    },
    {
      "cell_type": "code",
      "source": [
        "to_boolean_list('deep')"
      ],
      "metadata": {
        "colab": {
          "base_uri": "https://localhost:8080/"
        },
        "id": "vTydc3w3ns5g",
        "outputId": "4502c1c4-6dd4-4ca5-a8ff-88737422ca5e"
      },
      "execution_count": 83,
      "outputs": [
        {
          "output_type": "execute_result",
          "data": {
            "text/plain": [
              "[False, True, True, False]"
            ]
          },
          "metadata": {},
          "execution_count": 83
        }
      ]
    },
    {
      "cell_type": "code",
      "source": [
        "to_boolean_list('loves')"
      ],
      "metadata": {
        "colab": {
          "base_uri": "https://localhost:8080/"
        },
        "id": "dY9GS53fqSCl",
        "outputId": "570164ba-db2d-4748-c86b-05fd9ba69d7c"
      },
      "execution_count": 84,
      "outputs": [
        {
          "output_type": "execute_result",
          "data": {
            "text/plain": [
              "[False, True, False, True, True]"
            ]
          },
          "metadata": {},
          "execution_count": 84
        }
      ]
    },
    {
      "cell_type": "code",
      "source": [
        "to_boolean_list('tesh')"
      ],
      "metadata": {
        "colab": {
          "base_uri": "https://localhost:8080/"
        },
        "id": "kGw5ChWtqbKd",
        "outputId": "1fb29a15-9f46-442a-9c38-5a836d6d2177"
      },
      "execution_count": 85,
      "outputs": [
        {
          "output_type": "execute_result",
          "data": {
            "text/plain": [
              "[False, True, True, False]"
            ]
          },
          "metadata": {},
          "execution_count": 85
        }
      ]
    },
    {
      "cell_type": "code",
      "source": [
        ""
      ],
      "metadata": {
        "id": "C7zaxfkuqe9F"
      },
      "execution_count": null,
      "outputs": []
    }
  ]
}